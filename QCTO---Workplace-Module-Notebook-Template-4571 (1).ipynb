{
  "cells": [
    {
      "cell_type": "markdown",
      "metadata": {
        "id": "GsAVlvGewH5M"
      },
      "source": [
        "# QCTO - Workplace Module\n",
        "\n",
        "### Project Title: Avocado Prices and Sales Volume 2015-2023\n",
        "#### Done By: Venisha Bhima\n",
        "\n",
        "© ExploreAI 2024\n",
        "\n",
        "---\n",
        "\n",
        "## Table of Contents\n",
        "\n",
        "<a href=#BC> Background Context</a>\n",
        "\n",
        "<a href=#one>1. Importing Packages</a>\n",
        "\n",
        "<a href=#two>2. Data Collection and Description</a>\n",
        "\n",
        "<a href=#three>3. Loading Data </a>\n",
        "\n",
        "<a href=#four>4. Data Cleaning and Filtering</a>\n",
        "\n",
        "<a href=#five>5. Exploratory Data Analysis (EDA)</a>\n",
        "\n",
        "<a href=#six>6. Modeling </a>\n",
        "\n",
        "<a href=#seven>7. Evaluation and Validation</a>\n",
        "\n",
        "<a href=#eight>8. Final Model</a>\n",
        "\n",
        "<a href=#nine>9. Conclusion and Future Work</a>\n",
        "\n",
        "<a href=#ten>10. References</a>"
      ]
    },
    {
      "cell_type": "markdown",
      "metadata": {
        "id": "NjonpVXNwH5O"
      },
      "source": [
        "---\n",
        " <a id=\"BC\"></a>\n",
        "## **Background Context**\n",
        "<a href=#cont>Back to Table of Contents</a>\n",
        "\n",
        "* **Purpose:** The aim of this project is to get a view of the average prices and volume of avocado's sold per region in the USA.\n",
        "\n",
        "* **Details:** Avocado has become one of the most popular foods worldwide. As the symbol of millennial health trends, this superfood is now a staple for food lovers everywhere. But have you noticed your avocado toast is getting more expensive? In recent years, avocado prices have surged by up to 129%, with the average price of a single Hass avocado hitting $2.10 in 2019, nearly doubling in just one year. So, what’s behind the rising cost of avocados?\n",
        "\n",
        "> <b> Objective of the Project:</b> The aim of this project is to get a view of the average prices and volume of avocado's sold per region in the USA.\n",
        "\n",
        "> <b> Data Source:</b> The data was downloaded from Kaggle and details the volume and average selling prices of avocados across the USA over 5 years(2015 - 2023). The data has been updated till December 3, 2023.Data provided here was collected from Hass Avocado Board - Category Data.\n",
        "\n",
        ">**Note regarding the regions mentioned in dataset** \"region\" includes both regions and key locations which are cities or sub-regions. The values for locations do not add up to that of regions. The following are regions, as described here (another description of the dataset)\n",
        "California,\n",
        "West,\n",
        "Plains,\n",
        "South Central,\n",
        "Southeast,\n",
        "Midsouth,\n",
        "Great Lakes,\n",
        "Northeast.\n",
        "\n",
        ">**About this file**\n",
        "The product/price lookup code (PLU) uniquely identifies a product (mainly produce).\n",
        "\n",
        ">HAB makes distinction between bags versus bulk. Bulk typically means avocados sold as individual pieces and are easily distinguishable with their PLU codes. Hence, the PLU refers to a bulk sale. On the other hand, the bags indicates a pre-packaged container consisting of a variable number of avocados of mixed PLU type. For instance, a package of six avocados may consist of 2 PLU 4046, 3 PLU 4770 and 1 PLU 4225. In other words, bagged sales are unable to account for individual PLU sales.\n",
        "\n",
        ">The owner of the data is VakhariaPujan , source Kaggle , accessed on 26 August 2024.The text is cited from Kaggle.\n",
        "\n",
        "> <b> Importance of the Study:</b> Avocado has become one of the world’s trendiest foods. As the poster child of millennial healthy eating, this superfood is now a mainstay for foodies everywhere. But have you noticed your avo on toast is costing more and more? Avocado prices have rocketed in recent years by up to 129%, with the average national price of a single Hass avocado reaching $2.10 in 2019, almost doubling in just one year. So, why are avocados so expensive?\n",
        "\n",
        ">Archaeologists in Peru have found domesticated avocado seeds buried with Incan mummies dating back to 750 BC. But it was the Aztecs in 500 BC who named it āhuacatl, which translates to “testicle.” When Spanish conquistadors swept through Mexico and Central America in the 16th century, they renamed it aguacate. The farming of aguacate developed over the next few hundred years, predominantly in Central America and South America. But consumption of the “alligator pear” outside of these regions before the late 19th century was almost nonexistent.\n",
        "\n",
        ">The commercialization of aguacate began in the early 1900s but was focused on branding avocados as a delicacy for the wealthy, like this advert in The New Yorker from 1920, which declared them as “The aristocrat of salad fruit.” But a selection of Californian growers realized that the hard-to-pronounce aguacate was off-putting for the mass market, so they formed the California Avocado Association. By the 1950s, production scale grew, and avocado prices fell to about 25 cents each. Popularity increased further with the wave of inter-American immigration in the ’60s, as Latin Americans brought their love of avocados with them to the US. But as demand increased, supply had to keep up, and the true difficulties of yielding large-scale avocado crops began to show. Avocado orchards require an extraordinary amount of costly resources in order to flourish.(cited, https://www.limoneira.com/news-posts/avocado-prices-have-boomed-in-the-last-decade-heres-why-they-are-so-expensive/, 2 September 2024.\n",
        "\n",
        "> <b> Key Questions or Hypotheses:</b> Null hypothesis , the Total Volume of avocados consumed is inversely proportional to the average price of avocados. Higher prices demands a lower volume.\n",
        "\n",
        "> <b> Methodology Overview:</b> Follow EDA process\n",
        "\n",
        "> <b> Structure of the Notebook:</b> The structure of the notebook imports the python libraries required to analyze the data , we then cleaned the data and performed exploratory data analysis.\n",
        "\n",
        "> <b> Expected Outcomes:</b> I expect the volume of avocados consumed and the average price to increase year on year across the US.\n",
        "---"
      ]
    },
    {
      "cell_type": "markdown",
      "metadata": {
        "id": "E9zw8DJiwH5O"
      },
      "source": [
        "---\n",
        "<a href=#one></a>\n",
        "## **Importing Packages**\n",
        "<a href=#cont>Back to Table of Contents</a>\n",
        "\n",
        "* **Purpose:** Set up the Python environment with necessary libraries and tools.\n",
        "* **Details:** List and import all the Python packages that will be used throughout the project such as Pandas for data manipulation, Matplotlib/Seaborn for visualization, scikit-learn for modeling, etc.\n",
        "---"
      ]
    },
    {
      "cell_type": "code",
      "execution_count": 1,
      "metadata": {
        "id": "8QRuSWe0wH5O"
      },
      "outputs": [],
      "source": [
        "#Please use code cells to code in and do not forget to comment your code.\n",
        "# Libraries for data loading, manipulation and analysis\n",
        "\n",
        "import numpy as np\n",
        "import pandas as pd\n",
        "import csv\n",
        "import seaborn as sns\n",
        "import matplotlib.pyplot as plt\n",
        "\n",
        "# Displays output inline\n",
        "%matplotlib inline\n",
        "\n",
        "# Libraries for Handing Errors\n",
        "import warnings\n",
        "warnings.filterwarnings('ignore')"
      ]
    },
    {
      "cell_type": "markdown",
      "metadata": {
        "id": "TylOb1r2wH5P"
      },
      "source": [
        "---\n",
        "<a href=#two></a>\n",
        "## **Data Collection and Description**\n",
        "<a href=#cont>Back to Table of Contents</a>\n",
        "\n",
        "* **Purpose :**  The data was downloaded from Kaggle and details the volume and average selling prices of avocados across the USA over 5 years(2015 - 2023). The data has been updated till December 3, 2023.Data provided here was collected from Hass Avocado Board - Category Data.\n",
        "\n",
        ">**Note regarding the regions mentioned in dataset** \"region\" includes both regions and key locations which are cities or sub-regions. The values for locations do not add up to that of regions. The following are regions, as described here (another description of the dataset)\n",
        "California,\n",
        "West,\n",
        "Plains,\n",
        "South Central,\n",
        "Southeast,\n",
        "Midsouth,\n",
        "Great Lakes,\n",
        "Northeast.\n",
        "* **Details:** The dataset consists of 53415 rows (observations) and 12 columns (features).\n",
        "---"
      ]
    },
    {
      "cell_type": "markdown",
      "metadata": {
        "id": "5DtEL5_AwH5Q"
      },
      "source": [
        "---\n",
        "<a href=#three></a>\n",
        "## **Loading Data**\n",
        "<a href=#cont>Back to Table of Contents</a>\n",
        "\n",
        "* **Purpose:** Load the data into the notebook for manipulation and analysis.\n",
        "* **Details:** Show the code used to load the data and display the first few rows to give a sense of what the raw data looks like.\n",
        "---"
      ]
    },
    {
      "cell_type": "code",
      "execution_count": 3,
      "metadata": {
        "id": "MTVmVN1YwH5Q",
        "colab": {
          "base_uri": "https://localhost:8080/",
          "height": 112
        },
        "outputId": "ae9b1093-4fc4-4fda-d048-d0d4f3504a7e"
      },
      "outputs": [
        {
          "output_type": "execute_result",
          "data": {
            "text/plain": [
              "         Date  AveragePrice  TotalVolume  plu4046   plu4225  plu4770  \\\n",
              "0  2015-01-04          1.22     40873.28  2819.50  28287.42     49.9   \n",
              "1  2015-01-04          1.79      1373.95    57.42    153.88      0.0   \n",
              "\n",
              "   TotalBags  SmallBags  LargeBags  XLargeBags          type  region  \n",
              "0    9716.46    9186.93     529.53         0.0  conventional  Albany  \n",
              "1    1162.65    1162.65       0.00         0.0       organic  Albany  "
            ],
            "text/html": [
              "\n",
              "  <div id=\"df-a5f03059-904c-4a94-9f20-cf2218d9b8df\" class=\"colab-df-container\">\n",
              "    <div>\n",
              "<style scoped>\n",
              "    .dataframe tbody tr th:only-of-type {\n",
              "        vertical-align: middle;\n",
              "    }\n",
              "\n",
              "    .dataframe tbody tr th {\n",
              "        vertical-align: top;\n",
              "    }\n",
              "\n",
              "    .dataframe thead th {\n",
              "        text-align: right;\n",
              "    }\n",
              "</style>\n",
              "<table border=\"1\" class=\"dataframe\">\n",
              "  <thead>\n",
              "    <tr style=\"text-align: right;\">\n",
              "      <th></th>\n",
              "      <th>Date</th>\n",
              "      <th>AveragePrice</th>\n",
              "      <th>TotalVolume</th>\n",
              "      <th>plu4046</th>\n",
              "      <th>plu4225</th>\n",
              "      <th>plu4770</th>\n",
              "      <th>TotalBags</th>\n",
              "      <th>SmallBags</th>\n",
              "      <th>LargeBags</th>\n",
              "      <th>XLargeBags</th>\n",
              "      <th>type</th>\n",
              "      <th>region</th>\n",
              "    </tr>\n",
              "  </thead>\n",
              "  <tbody>\n",
              "    <tr>\n",
              "      <th>0</th>\n",
              "      <td>2015-01-04</td>\n",
              "      <td>1.22</td>\n",
              "      <td>40873.28</td>\n",
              "      <td>2819.50</td>\n",
              "      <td>28287.42</td>\n",
              "      <td>49.9</td>\n",
              "      <td>9716.46</td>\n",
              "      <td>9186.93</td>\n",
              "      <td>529.53</td>\n",
              "      <td>0.0</td>\n",
              "      <td>conventional</td>\n",
              "      <td>Albany</td>\n",
              "    </tr>\n",
              "    <tr>\n",
              "      <th>1</th>\n",
              "      <td>2015-01-04</td>\n",
              "      <td>1.79</td>\n",
              "      <td>1373.95</td>\n",
              "      <td>57.42</td>\n",
              "      <td>153.88</td>\n",
              "      <td>0.0</td>\n",
              "      <td>1162.65</td>\n",
              "      <td>1162.65</td>\n",
              "      <td>0.00</td>\n",
              "      <td>0.0</td>\n",
              "      <td>organic</td>\n",
              "      <td>Albany</td>\n",
              "    </tr>\n",
              "  </tbody>\n",
              "</table>\n",
              "</div>\n",
              "    <div class=\"colab-df-buttons\">\n",
              "\n",
              "  <div class=\"colab-df-container\">\n",
              "    <button class=\"colab-df-convert\" onclick=\"convertToInteractive('df-a5f03059-904c-4a94-9f20-cf2218d9b8df')\"\n",
              "            title=\"Convert this dataframe to an interactive table.\"\n",
              "            style=\"display:none;\">\n",
              "\n",
              "  <svg xmlns=\"http://www.w3.org/2000/svg\" height=\"24px\" viewBox=\"0 -960 960 960\">\n",
              "    <path d=\"M120-120v-720h720v720H120Zm60-500h600v-160H180v160Zm220 220h160v-160H400v160Zm0 220h160v-160H400v160ZM180-400h160v-160H180v160Zm440 0h160v-160H620v160ZM180-180h160v-160H180v160Zm440 0h160v-160H620v160Z\"/>\n",
              "  </svg>\n",
              "    </button>\n",
              "\n",
              "  <style>\n",
              "    .colab-df-container {\n",
              "      display:flex;\n",
              "      gap: 12px;\n",
              "    }\n",
              "\n",
              "    .colab-df-convert {\n",
              "      background-color: #E8F0FE;\n",
              "      border: none;\n",
              "      border-radius: 50%;\n",
              "      cursor: pointer;\n",
              "      display: none;\n",
              "      fill: #1967D2;\n",
              "      height: 32px;\n",
              "      padding: 0 0 0 0;\n",
              "      width: 32px;\n",
              "    }\n",
              "\n",
              "    .colab-df-convert:hover {\n",
              "      background-color: #E2EBFA;\n",
              "      box-shadow: 0px 1px 2px rgba(60, 64, 67, 0.3), 0px 1px 3px 1px rgba(60, 64, 67, 0.15);\n",
              "      fill: #174EA6;\n",
              "    }\n",
              "\n",
              "    .colab-df-buttons div {\n",
              "      margin-bottom: 4px;\n",
              "    }\n",
              "\n",
              "    [theme=dark] .colab-df-convert {\n",
              "      background-color: #3B4455;\n",
              "      fill: #D2E3FC;\n",
              "    }\n",
              "\n",
              "    [theme=dark] .colab-df-convert:hover {\n",
              "      background-color: #434B5C;\n",
              "      box-shadow: 0px 1px 3px 1px rgba(0, 0, 0, 0.15);\n",
              "      filter: drop-shadow(0px 1px 2px rgba(0, 0, 0, 0.3));\n",
              "      fill: #FFFFFF;\n",
              "    }\n",
              "  </style>\n",
              "\n",
              "    <script>\n",
              "      const buttonEl =\n",
              "        document.querySelector('#df-a5f03059-904c-4a94-9f20-cf2218d9b8df button.colab-df-convert');\n",
              "      buttonEl.style.display =\n",
              "        google.colab.kernel.accessAllowed ? 'block' : 'none';\n",
              "\n",
              "      async function convertToInteractive(key) {\n",
              "        const element = document.querySelector('#df-a5f03059-904c-4a94-9f20-cf2218d9b8df');\n",
              "        const dataTable =\n",
              "          await google.colab.kernel.invokeFunction('convertToInteractive',\n",
              "                                                    [key], {});\n",
              "        if (!dataTable) return;\n",
              "\n",
              "        const docLinkHtml = 'Like what you see? Visit the ' +\n",
              "          '<a target=\"_blank\" href=https://colab.research.google.com/notebooks/data_table.ipynb>data table notebook</a>'\n",
              "          + ' to learn more about interactive tables.';\n",
              "        element.innerHTML = '';\n",
              "        dataTable['output_type'] = 'display_data';\n",
              "        await google.colab.output.renderOutput(dataTable, element);\n",
              "        const docLink = document.createElement('div');\n",
              "        docLink.innerHTML = docLinkHtml;\n",
              "        element.appendChild(docLink);\n",
              "      }\n",
              "    </script>\n",
              "  </div>\n",
              "\n",
              "\n",
              "<div id=\"df-7a441db9-c8ff-40fb-8373-ae7dda9420a6\">\n",
              "  <button class=\"colab-df-quickchart\" onclick=\"quickchart('df-7a441db9-c8ff-40fb-8373-ae7dda9420a6')\"\n",
              "            title=\"Suggest charts\"\n",
              "            style=\"display:none;\">\n",
              "\n",
              "<svg xmlns=\"http://www.w3.org/2000/svg\" height=\"24px\"viewBox=\"0 0 24 24\"\n",
              "     width=\"24px\">\n",
              "    <g>\n",
              "        <path d=\"M19 3H5c-1.1 0-2 .9-2 2v14c0 1.1.9 2 2 2h14c1.1 0 2-.9 2-2V5c0-1.1-.9-2-2-2zM9 17H7v-7h2v7zm4 0h-2V7h2v10zm4 0h-2v-4h2v4z\"/>\n",
              "    </g>\n",
              "</svg>\n",
              "  </button>\n",
              "\n",
              "<style>\n",
              "  .colab-df-quickchart {\n",
              "      --bg-color: #E8F0FE;\n",
              "      --fill-color: #1967D2;\n",
              "      --hover-bg-color: #E2EBFA;\n",
              "      --hover-fill-color: #174EA6;\n",
              "      --disabled-fill-color: #AAA;\n",
              "      --disabled-bg-color: #DDD;\n",
              "  }\n",
              "\n",
              "  [theme=dark] .colab-df-quickchart {\n",
              "      --bg-color: #3B4455;\n",
              "      --fill-color: #D2E3FC;\n",
              "      --hover-bg-color: #434B5C;\n",
              "      --hover-fill-color: #FFFFFF;\n",
              "      --disabled-bg-color: #3B4455;\n",
              "      --disabled-fill-color: #666;\n",
              "  }\n",
              "\n",
              "  .colab-df-quickchart {\n",
              "    background-color: var(--bg-color);\n",
              "    border: none;\n",
              "    border-radius: 50%;\n",
              "    cursor: pointer;\n",
              "    display: none;\n",
              "    fill: var(--fill-color);\n",
              "    height: 32px;\n",
              "    padding: 0;\n",
              "    width: 32px;\n",
              "  }\n",
              "\n",
              "  .colab-df-quickchart:hover {\n",
              "    background-color: var(--hover-bg-color);\n",
              "    box-shadow: 0 1px 2px rgba(60, 64, 67, 0.3), 0 1px 3px 1px rgba(60, 64, 67, 0.15);\n",
              "    fill: var(--button-hover-fill-color);\n",
              "  }\n",
              "\n",
              "  .colab-df-quickchart-complete:disabled,\n",
              "  .colab-df-quickchart-complete:disabled:hover {\n",
              "    background-color: var(--disabled-bg-color);\n",
              "    fill: var(--disabled-fill-color);\n",
              "    box-shadow: none;\n",
              "  }\n",
              "\n",
              "  .colab-df-spinner {\n",
              "    border: 2px solid var(--fill-color);\n",
              "    border-color: transparent;\n",
              "    border-bottom-color: var(--fill-color);\n",
              "    animation:\n",
              "      spin 1s steps(1) infinite;\n",
              "  }\n",
              "\n",
              "  @keyframes spin {\n",
              "    0% {\n",
              "      border-color: transparent;\n",
              "      border-bottom-color: var(--fill-color);\n",
              "      border-left-color: var(--fill-color);\n",
              "    }\n",
              "    20% {\n",
              "      border-color: transparent;\n",
              "      border-left-color: var(--fill-color);\n",
              "      border-top-color: var(--fill-color);\n",
              "    }\n",
              "    30% {\n",
              "      border-color: transparent;\n",
              "      border-left-color: var(--fill-color);\n",
              "      border-top-color: var(--fill-color);\n",
              "      border-right-color: var(--fill-color);\n",
              "    }\n",
              "    40% {\n",
              "      border-color: transparent;\n",
              "      border-right-color: var(--fill-color);\n",
              "      border-top-color: var(--fill-color);\n",
              "    }\n",
              "    60% {\n",
              "      border-color: transparent;\n",
              "      border-right-color: var(--fill-color);\n",
              "    }\n",
              "    80% {\n",
              "      border-color: transparent;\n",
              "      border-right-color: var(--fill-color);\n",
              "      border-bottom-color: var(--fill-color);\n",
              "    }\n",
              "    90% {\n",
              "      border-color: transparent;\n",
              "      border-bottom-color: var(--fill-color);\n",
              "    }\n",
              "  }\n",
              "</style>\n",
              "\n",
              "  <script>\n",
              "    async function quickchart(key) {\n",
              "      const quickchartButtonEl =\n",
              "        document.querySelector('#' + key + ' button');\n",
              "      quickchartButtonEl.disabled = true;  // To prevent multiple clicks.\n",
              "      quickchartButtonEl.classList.add('colab-df-spinner');\n",
              "      try {\n",
              "        const charts = await google.colab.kernel.invokeFunction(\n",
              "            'suggestCharts', [key], {});\n",
              "      } catch (error) {\n",
              "        console.error('Error during call to suggestCharts:', error);\n",
              "      }\n",
              "      quickchartButtonEl.classList.remove('colab-df-spinner');\n",
              "      quickchartButtonEl.classList.add('colab-df-quickchart-complete');\n",
              "    }\n",
              "    (() => {\n",
              "      let quickchartButtonEl =\n",
              "        document.querySelector('#df-7a441db9-c8ff-40fb-8373-ae7dda9420a6 button');\n",
              "      quickchartButtonEl.style.display =\n",
              "        google.colab.kernel.accessAllowed ? 'block' : 'none';\n",
              "    })();\n",
              "  </script>\n",
              "</div>\n",
              "\n",
              "    </div>\n",
              "  </div>\n"
            ],
            "application/vnd.google.colaboratory.intrinsic+json": {
              "type": "dataframe",
              "variable_name": "df",
              "summary": "{\n  \"name\": \"df\",\n  \"rows\": 53415,\n  \"fields\": [\n    {\n      \"column\": \"Date\",\n      \"properties\": {\n        \"dtype\": \"object\",\n        \"num_unique_values\": 466,\n        \"samples\": [\n          \"2016-01-24\",\n          \"2016-03-20\",\n          \"2015-08-23\"\n        ],\n        \"semantic_type\": \"\",\n        \"description\": \"\"\n      }\n    },\n    {\n      \"column\": \"AveragePrice\",\n      \"properties\": {\n        \"dtype\": \"number\",\n        \"std\": 0.393115966650163,\n        \"min\": 0.44,\n        \"max\": 3.440829566,\n        \"num_unique_values\": 36721,\n        \"samples\": [\n          1.096665935,\n          1.361559777,\n          1.9975335\n        ],\n        \"semantic_type\": \"\",\n        \"description\": \"\"\n      }\n    },\n    {\n      \"column\": \"TotalVolume\",\n      \"properties\": {\n        \"dtype\": \"number\",\n        \"std\": 3545273.9983452437,\n        \"min\": 84.56,\n        \"max\": 61034457.1,\n        \"num_unique_values\": 53319,\n        \"samples\": [\n          471785.5,\n          4623.18,\n          536756.86\n        ],\n        \"semantic_type\": \"\",\n        \"description\": \"\"\n      }\n    },\n    {\n      \"column\": \"plu4046\",\n      \"properties\": {\n        \"dtype\": \"number\",\n        \"std\": 1307669.3294061814,\n        \"min\": 0.0,\n        \"max\": 25447201.87,\n        \"num_unique_values\": 50440,\n        \"samples\": [\n          137182.71,\n          3154.25,\n          17289.06\n        ],\n        \"semantic_type\": \"\",\n        \"description\": \"\"\n      }\n    },\n    {\n      \"column\": \"plu4225\",\n      \"properties\": {\n        \"dtype\": \"number\",\n        \"std\": 955462.4068915518,\n        \"min\": 0.0,\n        \"max\": 20470572.61,\n        \"num_unique_values\": 51647,\n        \"samples\": [\n          51699.07,\n          9397.56,\n          409.03\n        ],\n        \"semantic_type\": \"\",\n        \"description\": \"\"\n      }\n    },\n    {\n      \"column\": \"plu4770\",\n      \"properties\": {\n        \"dtype\": \"number\",\n        \"std\": 104097.69156199612,\n        \"min\": 0.0,\n        \"max\": 2860025.19,\n        \"num_unique_values\": 30746,\n        \"samples\": [\n          665.05,\n          55464.66,\n          10114.48\n        ],\n        \"semantic_type\": \"\",\n        \"description\": \"\"\n      }\n    },\n    {\n      \"column\": \"TotalBags\",\n      \"properties\": {\n        \"dtype\": \"number\",\n        \"std\": 867694.7373515319,\n        \"min\": 0.0,\n        \"max\": 16298296.29,\n        \"num_unique_values\": 53022,\n        \"samples\": [\n          2966.64,\n          1039.47,\n          127991.56\n        ],\n        \"semantic_type\": \"\",\n        \"description\": \"\"\n      }\n    },\n    {\n      \"column\": \"SmallBags\",\n      \"properties\": {\n        \"dtype\": \"number\",\n        \"std\": 569260.8259540073,\n        \"min\": 0.0,\n        \"max\": 12567155.58,\n        \"num_unique_values\": 21682,\n        \"samples\": [\n          833.33,\n          18526.59,\n          2233.49\n        ],\n        \"semantic_type\": \"\",\n        \"description\": \"\"\n      }\n    },\n    {\n      \"column\": \"LargeBags\",\n      \"properties\": {\n        \"dtype\": \"number\",\n        \"std\": 149662.24445805862,\n        \"min\": 0.0,\n        \"max\": 4324231.19,\n        \"num_unique_values\": 17450,\n        \"samples\": [\n          26.91,\n          26430.42,\n          150978.8\n        ],\n        \"semantic_type\": \"\",\n        \"description\": \"\"\n      }\n    },\n    {\n      \"column\": \"XLargeBags\",\n      \"properties\": {\n        \"dtype\": \"number\",\n        \"std\": 22589.09645405639,\n        \"min\": 0.0,\n        \"max\": 679586.8,\n        \"num_unique_values\": 7356,\n        \"samples\": [\n          88.89,\n          1557.01,\n          601.65\n        ],\n        \"semantic_type\": \"\",\n        \"description\": \"\"\n      }\n    },\n    {\n      \"column\": \"type\",\n      \"properties\": {\n        \"dtype\": \"category\",\n        \"num_unique_values\": 2,\n        \"samples\": [\n          \"organic\",\n          \"conventional\"\n        ],\n        \"semantic_type\": \"\",\n        \"description\": \"\"\n      }\n    },\n    {\n      \"column\": \"region\",\n      \"properties\": {\n        \"dtype\": \"category\",\n        \"num_unique_values\": 60,\n        \"samples\": [\n          \"Albany\",\n          \"BuffaloRochester\"\n        ],\n        \"semantic_type\": \"\",\n        \"description\": \"\"\n      }\n    }\n  ]\n}"
            }
          },
          "metadata": {},
          "execution_count": 3
        }
      ],
      "source": [
        "#Please use code cells to code in and do not forget to comment your code.\n",
        "# loading dataset\n",
        "df = pd.read_csv(\"Avocado_HassAvocadoBoard_20152023v1.0.1.csv\", index_col=False)\n",
        "df.head(2)"
      ]
    },
    {
      "cell_type": "markdown",
      "metadata": {
        "id": "F2GPRCo2wH5Q"
      },
      "source": [
        "---\n",
        "<a href=#four></a>\n",
        "## **Data Cleaning and Filtering**\n",
        "<a href=#cont>Back to Table of Contents</a>\n",
        "\n",
        "* **Purpose:** Prepare the data for analysis by cleaning and filtering.\n",
        "* **Details:** Include steps for handling missing values, removing outliers, correcting errors, and possibly reducing the data (filtering based on certain criteria or features).\n",
        "---"
      ]
    },
    {
      "cell_type": "code",
      "execution_count": 4,
      "metadata": {
        "id": "X9y4OWT1wH5R"
      },
      "outputs": [],
      "source": [
        "#Please use code cells to code in and do not forget to comment your code.\n",
        "# To set the maximum number of columns to be displayed, the pd.set_option() function was put in place.\n",
        "# displays unlimited number of columns\n",
        "pd.set_option(\"display.max_columns\", None)"
      ]
    },
    {
      "cell_type": "code",
      "source": [
        "#Please use code cells to code in and do not forget to comment your code.\n",
        "#To prevent any major unnecessary changes occurring to the original data , a copy of the dataframe was made using the df.copy() method and referred to as `df_copy`.#\n",
        "# The copy of the dataframe\n",
        "df_copy = df.copy()"
      ],
      "metadata": {
        "id": "6q3AFDT-CNH6"
      },
      "execution_count": 7,
      "outputs": []
    },
    {
      "cell_type": "code",
      "source": [
        "#Please use code cells to code in and do not forget to comment your code.\n",
        "# Displays the number of rows and columns\n",
        "df_copy.shape"
      ],
      "metadata": {
        "colab": {
          "base_uri": "https://localhost:8080/"
        },
        "id": "n8c4XVRCCM9A",
        "outputId": "d474d1d4-16e2-4aee-c04c-1a2f1506e7b5"
      },
      "execution_count": 8,
      "outputs": [
        {
          "output_type": "execute_result",
          "data": {
            "text/plain": [
              "(53415, 12)"
            ]
          },
          "metadata": {},
          "execution_count": 8
        }
      ]
    },
    {
      "cell_type": "code",
      "source": [
        "## Display summary information about the DataFrame.\n",
        "df_copy.info()"
      ],
      "metadata": {
        "colab": {
          "base_uri": "https://localhost:8080/"
        },
        "id": "yOchkcB6CMy0",
        "outputId": "eec4fb7f-e161-4c4a-856c-aa39cf16599d"
      },
      "execution_count": 10,
      "outputs": [
        {
          "output_type": "stream",
          "name": "stdout",
          "text": [
            "<class 'pandas.core.frame.DataFrame'>\n",
            "RangeIndex: 53415 entries, 0 to 53414\n",
            "Data columns (total 12 columns):\n",
            " #   Column        Non-Null Count  Dtype  \n",
            "---  ------        --------------  -----  \n",
            " 0   Date          53415 non-null  object \n",
            " 1   AveragePrice  53415 non-null  float64\n",
            " 2   TotalVolume   53415 non-null  float64\n",
            " 3   plu4046       53415 non-null  float64\n",
            " 4   plu4225       53415 non-null  float64\n",
            " 5   plu4770       53415 non-null  float64\n",
            " 6   TotalBags     53415 non-null  float64\n",
            " 7   SmallBags     41025 non-null  float64\n",
            " 8   LargeBags     41025 non-null  float64\n",
            " 9   XLargeBags    41025 non-null  float64\n",
            " 10  type          53415 non-null  object \n",
            " 11  region        53415 non-null  object \n",
            "dtypes: float64(9), object(3)\n",
            "memory usage: 4.9+ MB\n"
          ]
        }
      ]
    },
    {
      "cell_type": "code",
      "source": [
        "def check_null_values(df_copy):\n",
        "    \"\"\"\n",
        "    Print the count of null values for each column in a DataFrame.\n",
        "\n",
        "    This function iterates through each column in the DataFrame to check for the presence of null values.\n",
        "    If a column contains null values, it prints the column name along with the number of null values.\n",
        "\n",
        "    Parameters:\n",
        "    df (DataFrame): The pandas DataFrame to check for null values.\n",
        "\n",
        "    Returns:\n",
        "    None: This function does not return a value; it only prints information.\n",
        "    \"\"\"\n",
        "    for column in df_copy:\n",
        "        if df_copy[column].isnull().any():\n",
        "            print('{0} has {1} null values'.format(column, df_copy[column].isnull().sum()))"
      ],
      "metadata": {
        "id": "lACwVBr_CMm2"
      },
      "execution_count": 11,
      "outputs": []
    },
    {
      "cell_type": "code",
      "source": [
        "check_null_values(df_copy)"
      ],
      "metadata": {
        "colab": {
          "base_uri": "https://localhost:8080/"
        },
        "id": "saZ1P1eaCMPN",
        "outputId": "14250741-b0b9-4409-93e4-06c2241fb16e"
      },
      "execution_count": 12,
      "outputs": [
        {
          "output_type": "stream",
          "name": "stdout",
          "text": [
            "SmallBags has 12390 null values\n",
            "LargeBags has 12390 null values\n",
            "XLargeBags has 12390 null values\n"
          ]
        }
      ]
    },
    {
      "cell_type": "code",
      "source": [
        "def count_duplicate_rows(df_copy):\n",
        "    \"\"\"\n",
        "    Count the number of duplicate rows in a DataFrame.\n",
        "\n",
        "    This function calculates the total number of duplicate rows in the DataFrame by calling the `duplicated` method,\n",
        "    which marks duplicates as `True`, and then sums these cases.\n",
        "\n",
        "    Parameters:\n",
        "    df_copy (pandas.DataFrame): The DataFrame to check for duplicates.\n",
        "\n",
        "    Returns:\n",
        "    int: The count of duplicate rows.\n",
        "    \"\"\"\n",
        "    duplicate_count = df_copy.duplicated().sum()\n",
        "    return duplicate_count"
      ],
      "metadata": {
        "id": "zkRC1gbhEEd0"
      },
      "execution_count": 13,
      "outputs": []
    },
    {
      "cell_type": "code",
      "source": [
        "count_duplicate_rows(df_copy)"
      ],
      "metadata": {
        "id": "5KGpF0TdEEXO",
        "outputId": "b75450c1-12d6-433e-c409-fbdc21c017de",
        "colab": {
          "base_uri": "https://localhost:8080/"
        }
      },
      "execution_count": 14,
      "outputs": [
        {
          "output_type": "execute_result",
          "data": {
            "text/plain": [
              "0"
            ]
          },
          "metadata": {},
          "execution_count": 14
        }
      ]
    },
    {
      "cell_type": "code",
      "source": [
        "def preprocess_data(df_copy):\n",
        "    \"\"\"\n",
        "    Perform basic data cleaning on the DataFrame.\n",
        "\n",
        "    This includes:\n",
        "    - Setting NA to 0 for SmallBags\n",
        "    - Setting NA to 0 for LargeBags\n",
        "    - Setting NA to 0 for XLargeBags\n",
        "\n",
        "    Returns:\n",
        "        DataFrame: The cleaned DataFrame.\n",
        "    \"\"\"\n",
        "\n",
        "    # Assign zero volume for NA SmallBags\n",
        "    df_copy['SmallBags'] = df_copy['SmallBags'].fillna(0)\n",
        "\n",
        "    # Assign zero volume for NA LargeBags\n",
        "    df_copy['LargeBags'] = df_copy['LargeBags'].fillna(0)\n",
        "\n",
        "    # Assign zero volume for NA XLargeBags\n",
        "    df_copy['XLargeBags'] = df_copy['XLargeBags'].fillna(0)\n",
        "\n",
        "    return df_copy"
      ],
      "metadata": {
        "id": "P5ERSrErEEOx"
      },
      "execution_count": 15,
      "outputs": []
    },
    {
      "cell_type": "code",
      "source": [
        "# look at the top 2\n",
        "preprocess_data(df_copy.head(2))"
      ],
      "metadata": {
        "id": "-mrMwPneEDvf",
        "outputId": "38ab42b8-4ba4-4b0f-f054-1f859cd5a597",
        "colab": {
          "base_uri": "https://localhost:8080/",
          "height": 112
        }
      },
      "execution_count": 16,
      "outputs": [
        {
          "output_type": "execute_result",
          "data": {
            "text/plain": [
              "         Date  AveragePrice  TotalVolume  plu4046   plu4225  plu4770  \\\n",
              "0  2015-01-04          1.22     40873.28  2819.50  28287.42     49.9   \n",
              "1  2015-01-04          1.79      1373.95    57.42    153.88      0.0   \n",
              "\n",
              "   TotalBags  SmallBags  LargeBags  XLargeBags          type  region  \n",
              "0    9716.46    9186.93     529.53         0.0  conventional  Albany  \n",
              "1    1162.65    1162.65       0.00         0.0       organic  Albany  "
            ],
            "text/html": [
              "\n",
              "  <div id=\"df-b3bd3628-5d59-4739-92e3-9b29fbe7da45\" class=\"colab-df-container\">\n",
              "    <div>\n",
              "<style scoped>\n",
              "    .dataframe tbody tr th:only-of-type {\n",
              "        vertical-align: middle;\n",
              "    }\n",
              "\n",
              "    .dataframe tbody tr th {\n",
              "        vertical-align: top;\n",
              "    }\n",
              "\n",
              "    .dataframe thead th {\n",
              "        text-align: right;\n",
              "    }\n",
              "</style>\n",
              "<table border=\"1\" class=\"dataframe\">\n",
              "  <thead>\n",
              "    <tr style=\"text-align: right;\">\n",
              "      <th></th>\n",
              "      <th>Date</th>\n",
              "      <th>AveragePrice</th>\n",
              "      <th>TotalVolume</th>\n",
              "      <th>plu4046</th>\n",
              "      <th>plu4225</th>\n",
              "      <th>plu4770</th>\n",
              "      <th>TotalBags</th>\n",
              "      <th>SmallBags</th>\n",
              "      <th>LargeBags</th>\n",
              "      <th>XLargeBags</th>\n",
              "      <th>type</th>\n",
              "      <th>region</th>\n",
              "    </tr>\n",
              "  </thead>\n",
              "  <tbody>\n",
              "    <tr>\n",
              "      <th>0</th>\n",
              "      <td>2015-01-04</td>\n",
              "      <td>1.22</td>\n",
              "      <td>40873.28</td>\n",
              "      <td>2819.50</td>\n",
              "      <td>28287.42</td>\n",
              "      <td>49.9</td>\n",
              "      <td>9716.46</td>\n",
              "      <td>9186.93</td>\n",
              "      <td>529.53</td>\n",
              "      <td>0.0</td>\n",
              "      <td>conventional</td>\n",
              "      <td>Albany</td>\n",
              "    </tr>\n",
              "    <tr>\n",
              "      <th>1</th>\n",
              "      <td>2015-01-04</td>\n",
              "      <td>1.79</td>\n",
              "      <td>1373.95</td>\n",
              "      <td>57.42</td>\n",
              "      <td>153.88</td>\n",
              "      <td>0.0</td>\n",
              "      <td>1162.65</td>\n",
              "      <td>1162.65</td>\n",
              "      <td>0.00</td>\n",
              "      <td>0.0</td>\n",
              "      <td>organic</td>\n",
              "      <td>Albany</td>\n",
              "    </tr>\n",
              "  </tbody>\n",
              "</table>\n",
              "</div>\n",
              "    <div class=\"colab-df-buttons\">\n",
              "\n",
              "  <div class=\"colab-df-container\">\n",
              "    <button class=\"colab-df-convert\" onclick=\"convertToInteractive('df-b3bd3628-5d59-4739-92e3-9b29fbe7da45')\"\n",
              "            title=\"Convert this dataframe to an interactive table.\"\n",
              "            style=\"display:none;\">\n",
              "\n",
              "  <svg xmlns=\"http://www.w3.org/2000/svg\" height=\"24px\" viewBox=\"0 -960 960 960\">\n",
              "    <path d=\"M120-120v-720h720v720H120Zm60-500h600v-160H180v160Zm220 220h160v-160H400v160Zm0 220h160v-160H400v160ZM180-400h160v-160H180v160Zm440 0h160v-160H620v160ZM180-180h160v-160H180v160Zm440 0h160v-160H620v160Z\"/>\n",
              "  </svg>\n",
              "    </button>\n",
              "\n",
              "  <style>\n",
              "    .colab-df-container {\n",
              "      display:flex;\n",
              "      gap: 12px;\n",
              "    }\n",
              "\n",
              "    .colab-df-convert {\n",
              "      background-color: #E8F0FE;\n",
              "      border: none;\n",
              "      border-radius: 50%;\n",
              "      cursor: pointer;\n",
              "      display: none;\n",
              "      fill: #1967D2;\n",
              "      height: 32px;\n",
              "      padding: 0 0 0 0;\n",
              "      width: 32px;\n",
              "    }\n",
              "\n",
              "    .colab-df-convert:hover {\n",
              "      background-color: #E2EBFA;\n",
              "      box-shadow: 0px 1px 2px rgba(60, 64, 67, 0.3), 0px 1px 3px 1px rgba(60, 64, 67, 0.15);\n",
              "      fill: #174EA6;\n",
              "    }\n",
              "\n",
              "    .colab-df-buttons div {\n",
              "      margin-bottom: 4px;\n",
              "    }\n",
              "\n",
              "    [theme=dark] .colab-df-convert {\n",
              "      background-color: #3B4455;\n",
              "      fill: #D2E3FC;\n",
              "    }\n",
              "\n",
              "    [theme=dark] .colab-df-convert:hover {\n",
              "      background-color: #434B5C;\n",
              "      box-shadow: 0px 1px 3px 1px rgba(0, 0, 0, 0.15);\n",
              "      filter: drop-shadow(0px 1px 2px rgba(0, 0, 0, 0.3));\n",
              "      fill: #FFFFFF;\n",
              "    }\n",
              "  </style>\n",
              "\n",
              "    <script>\n",
              "      const buttonEl =\n",
              "        document.querySelector('#df-b3bd3628-5d59-4739-92e3-9b29fbe7da45 button.colab-df-convert');\n",
              "      buttonEl.style.display =\n",
              "        google.colab.kernel.accessAllowed ? 'block' : 'none';\n",
              "\n",
              "      async function convertToInteractive(key) {\n",
              "        const element = document.querySelector('#df-b3bd3628-5d59-4739-92e3-9b29fbe7da45');\n",
              "        const dataTable =\n",
              "          await google.colab.kernel.invokeFunction('convertToInteractive',\n",
              "                                                    [key], {});\n",
              "        if (!dataTable) return;\n",
              "\n",
              "        const docLinkHtml = 'Like what you see? Visit the ' +\n",
              "          '<a target=\"_blank\" href=https://colab.research.google.com/notebooks/data_table.ipynb>data table notebook</a>'\n",
              "          + ' to learn more about interactive tables.';\n",
              "        element.innerHTML = '';\n",
              "        dataTable['output_type'] = 'display_data';\n",
              "        await google.colab.output.renderOutput(dataTable, element);\n",
              "        const docLink = document.createElement('div');\n",
              "        docLink.innerHTML = docLinkHtml;\n",
              "        element.appendChild(docLink);\n",
              "      }\n",
              "    </script>\n",
              "  </div>\n",
              "\n",
              "\n",
              "<div id=\"df-3aa23a9c-f361-46ef-8e87-0fb196291c56\">\n",
              "  <button class=\"colab-df-quickchart\" onclick=\"quickchart('df-3aa23a9c-f361-46ef-8e87-0fb196291c56')\"\n",
              "            title=\"Suggest charts\"\n",
              "            style=\"display:none;\">\n",
              "\n",
              "<svg xmlns=\"http://www.w3.org/2000/svg\" height=\"24px\"viewBox=\"0 0 24 24\"\n",
              "     width=\"24px\">\n",
              "    <g>\n",
              "        <path d=\"M19 3H5c-1.1 0-2 .9-2 2v14c0 1.1.9 2 2 2h14c1.1 0 2-.9 2-2V5c0-1.1-.9-2-2-2zM9 17H7v-7h2v7zm4 0h-2V7h2v10zm4 0h-2v-4h2v4z\"/>\n",
              "    </g>\n",
              "</svg>\n",
              "  </button>\n",
              "\n",
              "<style>\n",
              "  .colab-df-quickchart {\n",
              "      --bg-color: #E8F0FE;\n",
              "      --fill-color: #1967D2;\n",
              "      --hover-bg-color: #E2EBFA;\n",
              "      --hover-fill-color: #174EA6;\n",
              "      --disabled-fill-color: #AAA;\n",
              "      --disabled-bg-color: #DDD;\n",
              "  }\n",
              "\n",
              "  [theme=dark] .colab-df-quickchart {\n",
              "      --bg-color: #3B4455;\n",
              "      --fill-color: #D2E3FC;\n",
              "      --hover-bg-color: #434B5C;\n",
              "      --hover-fill-color: #FFFFFF;\n",
              "      --disabled-bg-color: #3B4455;\n",
              "      --disabled-fill-color: #666;\n",
              "  }\n",
              "\n",
              "  .colab-df-quickchart {\n",
              "    background-color: var(--bg-color);\n",
              "    border: none;\n",
              "    border-radius: 50%;\n",
              "    cursor: pointer;\n",
              "    display: none;\n",
              "    fill: var(--fill-color);\n",
              "    height: 32px;\n",
              "    padding: 0;\n",
              "    width: 32px;\n",
              "  }\n",
              "\n",
              "  .colab-df-quickchart:hover {\n",
              "    background-color: var(--hover-bg-color);\n",
              "    box-shadow: 0 1px 2px rgba(60, 64, 67, 0.3), 0 1px 3px 1px rgba(60, 64, 67, 0.15);\n",
              "    fill: var(--button-hover-fill-color);\n",
              "  }\n",
              "\n",
              "  .colab-df-quickchart-complete:disabled,\n",
              "  .colab-df-quickchart-complete:disabled:hover {\n",
              "    background-color: var(--disabled-bg-color);\n",
              "    fill: var(--disabled-fill-color);\n",
              "    box-shadow: none;\n",
              "  }\n",
              "\n",
              "  .colab-df-spinner {\n",
              "    border: 2px solid var(--fill-color);\n",
              "    border-color: transparent;\n",
              "    border-bottom-color: var(--fill-color);\n",
              "    animation:\n",
              "      spin 1s steps(1) infinite;\n",
              "  }\n",
              "\n",
              "  @keyframes spin {\n",
              "    0% {\n",
              "      border-color: transparent;\n",
              "      border-bottom-color: var(--fill-color);\n",
              "      border-left-color: var(--fill-color);\n",
              "    }\n",
              "    20% {\n",
              "      border-color: transparent;\n",
              "      border-left-color: var(--fill-color);\n",
              "      border-top-color: var(--fill-color);\n",
              "    }\n",
              "    30% {\n",
              "      border-color: transparent;\n",
              "      border-left-color: var(--fill-color);\n",
              "      border-top-color: var(--fill-color);\n",
              "      border-right-color: var(--fill-color);\n",
              "    }\n",
              "    40% {\n",
              "      border-color: transparent;\n",
              "      border-right-color: var(--fill-color);\n",
              "      border-top-color: var(--fill-color);\n",
              "    }\n",
              "    60% {\n",
              "      border-color: transparent;\n",
              "      border-right-color: var(--fill-color);\n",
              "    }\n",
              "    80% {\n",
              "      border-color: transparent;\n",
              "      border-right-color: var(--fill-color);\n",
              "      border-bottom-color: var(--fill-color);\n",
              "    }\n",
              "    90% {\n",
              "      border-color: transparent;\n",
              "      border-bottom-color: var(--fill-color);\n",
              "    }\n",
              "  }\n",
              "</style>\n",
              "\n",
              "  <script>\n",
              "    async function quickchart(key) {\n",
              "      const quickchartButtonEl =\n",
              "        document.querySelector('#' + key + ' button');\n",
              "      quickchartButtonEl.disabled = true;  // To prevent multiple clicks.\n",
              "      quickchartButtonEl.classList.add('colab-df-spinner');\n",
              "      try {\n",
              "        const charts = await google.colab.kernel.invokeFunction(\n",
              "            'suggestCharts', [key], {});\n",
              "      } catch (error) {\n",
              "        console.error('Error during call to suggestCharts:', error);\n",
              "      }\n",
              "      quickchartButtonEl.classList.remove('colab-df-spinner');\n",
              "      quickchartButtonEl.classList.add('colab-df-quickchart-complete');\n",
              "    }\n",
              "    (() => {\n",
              "      let quickchartButtonEl =\n",
              "        document.querySelector('#df-3aa23a9c-f361-46ef-8e87-0fb196291c56 button');\n",
              "      quickchartButtonEl.style.display =\n",
              "        google.colab.kernel.accessAllowed ? 'block' : 'none';\n",
              "    })();\n",
              "  </script>\n",
              "</div>\n",
              "\n",
              "    </div>\n",
              "  </div>\n"
            ],
            "application/vnd.google.colaboratory.intrinsic+json": {
              "type": "dataframe",
              "summary": "{\n  \"name\": \"preprocess_data(df_copy\",\n  \"rows\": 2,\n  \"fields\": [\n    {\n      \"column\": \"Date\",\n      \"properties\": {\n        \"dtype\": \"object\",\n        \"num_unique_values\": 1,\n        \"samples\": [\n          \"2015-01-04\"\n        ],\n        \"semantic_type\": \"\",\n        \"description\": \"\"\n      }\n    },\n    {\n      \"column\": \"AveragePrice\",\n      \"properties\": {\n        \"dtype\": \"number\",\n        \"std\": 0.40305086527633216,\n        \"min\": 1.22,\n        \"max\": 1.79,\n        \"num_unique_values\": 2,\n        \"samples\": [\n          1.79\n        ],\n        \"semantic_type\": \"\",\n        \"description\": \"\"\n      }\n    },\n    {\n      \"column\": \"TotalVolume\",\n      \"properties\": {\n        \"dtype\": \"number\",\n        \"std\": 27930.24409532523,\n        \"min\": 1373.95,\n        \"max\": 40873.28,\n        \"num_unique_values\": 2,\n        \"samples\": [\n          1373.95\n        ],\n        \"semantic_type\": \"\",\n        \"description\": \"\"\n      }\n    },\n    {\n      \"column\": \"plu4046\",\n      \"properties\": {\n        \"dtype\": \"number\",\n        \"std\": 1953.085498179739,\n        \"min\": 57.42,\n        \"max\": 2819.5,\n        \"num_unique_values\": 2,\n        \"samples\": [\n          57.42\n        ],\n        \"semantic_type\": \"\",\n        \"description\": \"\"\n      }\n    },\n    {\n      \"column\": \"plu4225\",\n      \"properties\": {\n        \"dtype\": \"number\",\n        \"std\": 19893.41691278298,\n        \"min\": 153.88,\n        \"max\": 28287.42,\n        \"num_unique_values\": 2,\n        \"samples\": [\n          153.88\n        ],\n        \"semantic_type\": \"\",\n        \"description\": \"\"\n      }\n    },\n    {\n      \"column\": \"plu4770\",\n      \"properties\": {\n        \"dtype\": \"number\",\n        \"std\": 35.28462838120872,\n        \"min\": 0.0,\n        \"max\": 49.9,\n        \"num_unique_values\": 2,\n        \"samples\": [\n          0.0\n        ],\n        \"semantic_type\": \"\",\n        \"description\": \"\"\n      }\n    },\n    {\n      \"column\": \"TotalBags\",\n      \"properties\": {\n        \"dtype\": \"number\",\n        \"std\": 6048.457055981301,\n        \"min\": 1162.65,\n        \"max\": 9716.46,\n        \"num_unique_values\": 2,\n        \"samples\": [\n          1162.65\n        ],\n        \"semantic_type\": \"\",\n        \"description\": \"\"\n      }\n    },\n    {\n      \"column\": \"SmallBags\",\n      \"properties\": {\n        \"dtype\": \"number\",\n        \"std\": 5674.02280213959,\n        \"min\": 1162.65,\n        \"max\": 9186.93,\n        \"num_unique_values\": 2,\n        \"samples\": [\n          1162.65\n        ],\n        \"semantic_type\": \"\",\n        \"description\": \"\"\n      }\n    },\n    {\n      \"column\": \"LargeBags\",\n      \"properties\": {\n        \"dtype\": \"number\",\n        \"std\": 374.43425384171246,\n        \"min\": 0.0,\n        \"max\": 529.53,\n        \"num_unique_values\": 2,\n        \"samples\": [\n          0.0\n        ],\n        \"semantic_type\": \"\",\n        \"description\": \"\"\n      }\n    },\n    {\n      \"column\": \"XLargeBags\",\n      \"properties\": {\n        \"dtype\": \"number\",\n        \"std\": 0.0,\n        \"min\": 0.0,\n        \"max\": 0.0,\n        \"num_unique_values\": 1,\n        \"samples\": [\n          0.0\n        ],\n        \"semantic_type\": \"\",\n        \"description\": \"\"\n      }\n    },\n    {\n      \"column\": \"type\",\n      \"properties\": {\n        \"dtype\": \"string\",\n        \"num_unique_values\": 2,\n        \"samples\": [\n          \"organic\"\n        ],\n        \"semantic_type\": \"\",\n        \"description\": \"\"\n      }\n    },\n    {\n      \"column\": \"region\",\n      \"properties\": {\n        \"dtype\": \"string\",\n        \"num_unique_values\": 1,\n        \"samples\": [\n          \"Albany\"\n        ],\n        \"semantic_type\": \"\",\n        \"description\": \"\"\n      }\n    }\n  ]\n}"
            }
          },
          "metadata": {},
          "execution_count": 16
        }
      ]
    },
    {
      "cell_type": "code",
      "source": [
        "pip freeze > requirements.txt"
      ],
      "metadata": {
        "id": "xzLRDpBIEDmH"
      },
      "execution_count": 17,
      "outputs": []
    },
    {
      "cell_type": "markdown",
      "metadata": {
        "id": "A5n1Vz3PwH5R"
      },
      "source": [
        "---\n",
        "<a href=#five></a>\n",
        "## **Exploratory Data Analysis (EDA)**\n",
        "<a href=#cont>Back to Table of Contents</a>\n",
        "\n",
        "* **Purpose:** Explore and visualize the data to uncover patterns, trends, and relationships.\n",
        "* **Details:** Use statistics and visualizations to explore the data. This may include histograms, box plots, scatter plots, and correlation matrices. Discuss any significant findings.\n",
        "---\n"
      ]
    },
    {
      "cell_type": "code",
      "execution_count": 5,
      "metadata": {
        "id": "d8iEu4yAwH5R"
      },
      "outputs": [],
      "source": [
        "#Please use code cells to code in and do not forget to comment your code.\n"
      ]
    },
    {
      "cell_type": "markdown",
      "metadata": {
        "id": "v8X9wHykwH5R"
      },
      "source": [
        "---\n",
        "<a href=#six></a>\n",
        "## **Modeling**\n",
        "<a href=#cont>Back to Table of Contents</a>\n",
        "\n",
        "* **Purpose:** Develop and train predictive or statistical models.\n",
        "* **Details:** Describe the choice of models, feature selection and engineering processes, and show how the models are trained. Include code for setting up the models and explanations of the model parameters.\n",
        "---\n"
      ]
    },
    {
      "cell_type": "code",
      "execution_count": 9,
      "metadata": {
        "id": "ZLtIu7u9wH5R"
      },
      "outputs": [],
      "source": [
        "#Please use code cells to code in and do not forget to comment your code.\n"
      ]
    },
    {
      "cell_type": "markdown",
      "metadata": {
        "id": "_7xRpwm-wH5S"
      },
      "source": [
        "---\n",
        "<a href=#seven></a>\n",
        "## **Evaluation and Validation**\n",
        "<a href=#cont>Back to Table of Contents</a>\n",
        "\n",
        "* **Purpose:** Evaluate and validate the effectiveness and accuracy of the models.\n",
        "* **Details:** Present metrics used to evaluate the models, such as accuracy, precision, recall, F1-score, etc. Discuss validation techniques employed, such as cross-validation or train/test split.\n",
        "---"
      ]
    },
    {
      "cell_type": "code",
      "execution_count": null,
      "metadata": {
        "id": "Os5PBzRvwH5S"
      },
      "outputs": [],
      "source": [
        "#Please use code cells to code in and do not forget to comment your code."
      ]
    },
    {
      "cell_type": "markdown",
      "metadata": {
        "id": "nEPkA_CkwH5S"
      },
      "source": [
        "---\n",
        "<a href=#eight></a>\n",
        "## **Final Model**\n",
        "<a href=#cont>Back to Table of Contents</a>\n",
        "\n",
        "* **Purpose:** Present the final model and its performance.\n",
        "* **Details:** Highlight the best-performing model and discuss its configuration, performance, and why it was chosen over others.\n",
        "---\n"
      ]
    },
    {
      "cell_type": "code",
      "execution_count": null,
      "metadata": {
        "id": "lLhTM0I0wH5S"
      },
      "outputs": [],
      "source": [
        "#Please use code cells to code in and do not forget to comment your code."
      ]
    },
    {
      "cell_type": "markdown",
      "metadata": {
        "id": "xWvcXAMkwH5S"
      },
      "source": [
        "---\n",
        "<a href=#nine></a>\n",
        "## **Conclusion and Future Work**\n",
        "<a href=#cont>Back to Table of Contents</a>\n",
        "\n",
        "* **Purpose:** Summarize the findings and discuss future directions.\n",
        "* **Details:** Conclude with a summary of the results, insights gained, limitations of the study, and suggestions for future projects or improvements in methodology or data collection.\n",
        "---\n"
      ]
    },
    {
      "cell_type": "code",
      "execution_count": null,
      "metadata": {
        "id": "hCCw56WDwH5S"
      },
      "outputs": [],
      "source": [
        "#Please use code cells to code in and do not forget to comment your code."
      ]
    },
    {
      "cell_type": "markdown",
      "metadata": {
        "id": "7-17kYYWwH5T"
      },
      "source": [
        "---\n",
        "<a href=#ten></a>\n",
        "## **References**\n",
        "<a href=#cont>Back to Table of Contents</a>\n",
        "\n",
        "* **Purpose:** Provide citations and sources of external content.\n",
        "* **Details:** List all the references and sources consulted during the project, including data sources, research papers, and documentation for tools and libraries used.\n",
        "---"
      ]
    },
    {
      "cell_type": "code",
      "execution_count": null,
      "metadata": {
        "id": "RMX64ga4wH5T"
      },
      "outputs": [],
      "source": [
        "#Please use code cells to code in and do not forget to comment your code."
      ]
    },
    {
      "cell_type": "markdown",
      "metadata": {
        "id": "LLbFzfY0wH5T"
      },
      "source": [
        "## Additional Sections to Consider\n",
        "\n",
        "* ### Appendix:\n",
        "For any additional code, detailed tables, or extended data visualizations that are supplementary to the main content.\n",
        "\n",
        "* ### Contributors:\n",
        "If this is a group project, list the contributors and their roles or contributions to the project.\n"
      ]
    }
  ],
  "metadata": {
    "language_info": {
      "name": "python"
    },
    "orig_nbformat": 4,
    "colab": {
      "provenance": []
    },
    "kernelspec": {
      "name": "python3",
      "display_name": "Python 3"
    }
  },
  "nbformat": 4,
  "nbformat_minor": 0
}